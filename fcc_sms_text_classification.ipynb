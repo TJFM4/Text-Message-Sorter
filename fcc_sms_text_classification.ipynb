{
  "cells": [
    {
      "cell_type": "code",
      "execution_count": null,
      "metadata": {
        "id": "8RZOuS9LWQvv"
      },
      "outputs": [],
      "source": [
        "# import libraries\n",
        "import tensorflow as tf\n",
        "import pandas as pd\n",
        "from tensorflow import keras\n",
        "import tensorflow_datasets as tfds\n",
        "import numpy as np\n",
        "import matplotlib.pyplot as plt\n",
        "\n",
        "from keras.preprocessing import sequence\n",
        "from tensorflow.keras.preprocessing.text import Tokenizer\n",
        "import re\n",
        "\n",
        "print(tf.__version__)"
      ]
    },
    {
      "cell_type": "code",
      "execution_count": null,
      "metadata": {
        "id": "lMHwYXHXCar3"
      },
      "outputs": [],
      "source": [
        "# get data files\n",
        "!wget https://cdn.freecodecamp.org/project-data/sms/train-data.tsv\n",
        "!wget https://cdn.freecodecamp.org/project-data/sms/valid-data.tsv\n",
        "\n",
        "train_file_path = \"train-data.tsv\"\n",
        "test_file_path = \"valid-data.tsv\"\n",
        "\n",
        "train_df = pd.read_csv(\"train-data.tsv\", sep=\"\\t\", header = None)\n",
        "test_df = pd.read_csv(\"valid-data.tsv\", sep=\"\\t\", header = None)"
      ]
    },
    {
      "cell_type": "code",
      "execution_count": null,
      "metadata": {
        "id": "g_h508FEClxO"
      },
      "outputs": [],
      "source": [
        "#Assigning column titles\n",
        "train_df.columns = ['status', 'message']\n",
        "test_df.columns = ['status', 'message']\n",
        "\n",
        "print(train_df.head())"
      ]
    },
    {
      "cell_type": "code",
      "execution_count": null,
      "metadata": {
        "id": "6KAouUgMHDIy"
      },
      "outputs": [],
      "source": [
        "#PREPROCESSING\n",
        "#Normalise numbers\n",
        "\n",
        "def replace_numbers(text):\n",
        "    return re.sub(r\"\\d+\", \"NUM\", text)\n",
        "\n",
        "train_df['message'] = train_df['message'].apply(replace_numbers)\n",
        "test_df['message'] = test_df['message'].apply(replace_numbers)\n",
        "\n",
        "#Encoding Messages\n",
        "\n",
        "messages = train_df['message'].astype(str).to_list()\n",
        "\n",
        "tokenizer = Tokenizer(num_words=10000, oov_token=\"<OOV>\")\n",
        "tokenizer.fit_on_texts(messages)\n",
        "\n",
        "word_index = tokenizer.word_index\n",
        "print(\"Size of vocabulary:\", len(word_index))\n",
        "\n",
        "train_sequences = tokenizer.texts_to_sequences(train_df['message'])\n",
        "test_sequences = tokenizer.texts_to_sequences(test_df['message'])\n",
        "\n",
        "train_sequences = sequence.pad_sequences(train_sequences, maxlen=120)\n",
        "test_sequences = sequence.pad_sequences(test_sequences, maxlen=120)\n",
        "\n",
        "assert len(train_sequences) == len(train_df['status'])\n",
        "\n",
        "#Encoding Status\n",
        "train_df['status'] = train_df['status'].map({'ham': 0, 'spam': 1}).fillna(0).astype('int32').to_numpy()\n",
        "test_df['status'] = test_df['status'].map({'ham': 0, 'spam': 1}).fillna(0).astype('int32').to_numpy()"
      ]
    },
    {
      "cell_type": "code",
      "execution_count": null,
      "metadata": {
        "id": "zOMKywn4zReN"
      },
      "outputs": [],
      "source": [
        "#Model\n",
        "vocab_cap = min(10000, len(word_index) + 1)\n",
        "\n",
        "model = tf.keras.Sequential([\n",
        "    tf.keras.layers.Embedding(input_dim = vocab_cap, output_dim = 32),\n",
        "    tf.keras.layers.LSTM(32),\n",
        "    tf.keras.layers.Dense(16, activation = 'relu'),\n",
        "    tf.keras.layers.Dense(1, activation = 'sigmoid')\n",
        "])\n",
        "\n",
        "model.compile(loss=\"binary_crossentropy\",optimizer=\"rmsprop\",metrics=['acc'])\n",
        "\n",
        "history = model.fit(train_sequences, train_df['status'], epochs=10)"
      ]
    },
    {
      "cell_type": "code",
      "execution_count": null,
      "metadata": {
        "id": "LKKGxrYuYbvi"
      },
      "outputs": [],
      "source": [
        "results = model.evaluate(test_sequences, test_df['status'])\n",
        "print('Test loss, acc:', results)"
      ]
    },
    {
      "cell_type": "code",
      "execution_count": null,
      "metadata": {
        "id": "UIabhAC9ZZkj"
      },
      "outputs": [],
      "source": [
        "#Converting encodings to words\n",
        "\n",
        "inverse_code = {value: key for (key, value) in word_index.items()}\n",
        "\n",
        "def reverse(num_list):\n",
        "  text = ''\n",
        "  for num in num_list:\n",
        "    if num != 0:\n",
        "      text += inverse_code[num] + ' '\n",
        "  text = text[:-1] + '.'\n",
        "  return text\n",
        "\n",
        "print(reverse(train_sequences[0]))"
      ]
    },
    {
      "cell_type": "code",
      "execution_count": null,
      "metadata": {
        "id": "J9tD9yACG6M9"
      },
      "outputs": [],
      "source": [
        "# function to predict messages based on model\n",
        "# (should return list containing prediction and label, ex. [0.008318834938108921, 'ham'])\n",
        "def predict_message(pred_text):\n",
        "  pred_text = replace_numbers(pred_text)\n",
        "  pred_seq = tokenizer.texts_to_sequences([pred_text])\n",
        "  pred_seq = sequence.pad_sequences(pred_seq, maxlen=120)\n",
        "\n",
        "  prediction = model.predict(pred_seq)[0]\n",
        "  if prediction < 0.5:\n",
        "    prediction = [prediction, 'ham']\n",
        "  else:\n",
        "    prediction = [prediction, 'spam']\n",
        "\n",
        "  return prediction\n",
        "\n",
        "pred_text = \"how are you doing today?\"\n",
        "\n",
        "prediction = predict_message(pred_text)\n",
        "print(prediction)"
      ]
    },
    {
      "cell_type": "code",
      "execution_count": null,
      "metadata": {
        "id": "Dxotov85SjsC"
      },
      "outputs": [],
      "source": [
        "# Run this cell to test your function and model. Do not modify contents.\n",
        "def test_predictions():\n",
        "  test_messages = [\"how are you doing today\",\n",
        "                   \"sale today! to stop texts call 98912460324\",\n",
        "                   \"i dont want to go. can we try it a different day? available sat\",\n",
        "                   \"our new mobile video service is live. just install on your phone to start watching.\",\n",
        "                   \"you have won £1000 cash! call to claim your prize.\",\n",
        "                   \"i'll bring it tomorrow. don't forget the milk.\",\n",
        "                   \"wow, is your arm alright. that happened to me one time too\"\n",
        "                  ]\n",
        "\n",
        "  test_answers = [\"ham\", \"spam\", \"ham\", \"spam\", \"spam\", \"ham\", \"ham\"]\n",
        "  passed = True\n",
        "\n",
        "  for msg, ans in zip(test_messages, test_answers):\n",
        "    prediction = predict_message(msg)\n",
        "\n",
        "    print(prediction, ans)\n",
        "    if prediction[1] != ans:\n",
        "      passed = False\n",
        "\n",
        "  if passed:\n",
        "    print(\"You passed the challenge. Great job!\")\n",
        "  else:\n",
        "    print(\"You haven't passed yet. Keep trying.\")\n",
        "\n",
        "test_predictions()\n"
      ]
    }
  ],
  "metadata": {
    "colab": {
      "private_outputs": true,
      "provenance": []
    },
    "kernelspec": {
      "display_name": "Python 3",
      "name": "python3"
    },
    "language_info": {}
  },
  "nbformat": 4,
  "nbformat_minor": 0
}
